{
 "cells": [
  {
   "cell_type": "code",
   "execution_count": 2,
   "metadata": {},
   "outputs": [],
   "source": [
    "from paddleocr import PaddleOCR\n"
   ]
  },
  {
   "cell_type": "code",
   "execution_count": 3,
   "metadata": {},
   "outputs": [
    {
     "name": "stdout",
     "output_type": "stream",
     "text": [
      "download https://paddleocr.bj.bcebos.com/PP-OCRv3/english/en_PP-OCRv3_det_infer.tar to ./models/det\\en_PP-OCRv3_det_infer.tar\n"
     ]
    },
    {
     "name": "stderr",
     "output_type": "stream",
     "text": [
      "100%|██████████| 3910/3910 [00:17<00:00, 226.80it/s] \n"
     ]
    },
    {
     "name": "stdout",
     "output_type": "stream",
     "text": [
      "download https://paddleocr.bj.bcebos.com/PP-OCRv4/english/en_PP-OCRv4_rec_infer.tar to ./models/rec\\en_PP-OCRv4_rec_infer.tar\n"
     ]
    },
    {
     "name": "stderr",
     "output_type": "stream",
     "text": [
      "100%|██████████| 10000/10000 [00:20<00:00, 492.34it/s]\n"
     ]
    },
    {
     "name": "stdout",
     "output_type": "stream",
     "text": [
      "download https://paddleocr.bj.bcebos.com/dygraph_v2.0/ch/ch_ppocr_mobile_v2.0_cls_infer.tar to C:\\Users\\spenc/.paddleocr/whl\\cls\\ch_ppocr_mobile_v2.0_cls_infer\\ch_ppocr_mobile_v2.0_cls_infer.tar\n"
     ]
    },
    {
     "name": "stderr",
     "output_type": "stream",
     "text": [
      "100%|██████████| 2138/2138 [00:15<00:00, 134.57it/s]"
     ]
    },
    {
     "name": "stdout",
     "output_type": "stream",
     "text": [
      "[2025/02/17 13:09:11] ppocr DEBUG: Namespace(help='==SUPPRESS==', use_gpu=False, use_xpu=False, use_npu=False, use_mlu=False, ir_optim=True, use_tensorrt=False, min_subgraph_size=15, precision='fp32', gpu_mem=500, gpu_id=0, image_dir=None, page_num=0, det_algorithm='DB', det_model_dir='./models/det', det_limit_side_len=960, det_limit_type='max', det_box_type='quad', det_db_thresh=0.3, det_db_box_thresh=0.6, det_db_unclip_ratio=1.5, max_batch_size=10, use_dilation=False, det_db_score_mode='fast', det_east_score_thresh=0.8, det_east_cover_thresh=0.1, det_east_nms_thresh=0.2, det_sast_score_thresh=0.5, det_sast_nms_thresh=0.2, det_pse_thresh=0, det_pse_box_thresh=0.85, det_pse_min_area=16, det_pse_scale=1, scales=[8, 16, 32], alpha=1.0, beta=1.0, fourier_degree=5, rec_algorithm='SVTR_LCNet', rec_model_dir='./models/rec', rec_image_inverse=True, rec_image_shape='3, 48, 320', rec_batch_num=6, max_text_length=25, rec_char_dict_path='c:\\\\Users\\\\spenc\\\\miniconda3\\\\envs\\\\ocr_venv\\\\Lib\\\\site-packages\\\\paddleocr\\\\ppocr\\\\utils\\\\en_dict.txt', use_space_char=True, vis_font_path='./doc/fonts/simfang.ttf', drop_score=0.5, e2e_algorithm='PGNet', e2e_model_dir=None, e2e_limit_side_len=768, e2e_limit_type='max', e2e_pgnet_score_thresh=0.5, e2e_char_dict_path='./ppocr/utils/ic15_dict.txt', e2e_pgnet_valid_set='totaltext', e2e_pgnet_mode='fast', use_angle_cls=True, cls_model_dir='C:\\\\Users\\\\spenc/.paddleocr/whl\\\\cls\\\\ch_ppocr_mobile_v2.0_cls_infer', cls_image_shape='3, 48, 192', label_list=['0', '180'], cls_batch_num=6, cls_thresh=0.9, enable_mkldnn=False, cpu_threads=10, use_pdserving=False, warmup=False, sr_model_dir=None, sr_image_shape='3, 32, 128', sr_batch_num=1, draw_img_save_dir='./inference_results', save_crop_res=False, crop_res_save_dir='./output', use_mp=False, total_process_num=1, process_id=0, benchmark=False, save_log_path='./log_output/', show_log=True, use_onnx=False, return_word_box=False, output='./output', table_max_len=488, table_algorithm='TableAttn', table_model_dir=None, merge_no_span_structure=True, table_char_dict_path=None, formula_algorithm='LaTeXOCR', formula_model_dir=None, formula_char_dict_path=None, formula_batch_num=1, layout_model_dir=None, layout_dict_path=None, layout_score_threshold=0.5, layout_nms_threshold=0.5, kie_algorithm='LayoutXLM', ser_model_dir=None, re_model_dir=None, use_visual_backbone=True, ser_dict_path='../train_data/XFUND/class_list_xfun.txt', ocr_order_method=None, mode='structure', image_orientation=False, layout=True, table=True, formula=False, ocr=True, recovery=False, recovery_to_markdown=False, use_pdf2docx_api=False, invert=False, binarize=False, alphacolor=(255, 255, 255), lang='en', det=True, rec=True, type='ocr', savefile=False, ocr_version='PP-OCRv4', structure_version='PP-StructureV2')\n"
     ]
    },
    {
     "name": "stderr",
     "output_type": "stream",
     "text": [
      "\n"
     ]
    }
   ],
   "source": [
    "# Load lightweight model (fastest for browser deployment)\n",
    "ocr = PaddleOCR(use_angle_cls=True, lang=\"en\", det_model_dir=\"./models/det\", rec_model_dir=\"./models/rec\")"
   ]
  },
  {
   "cell_type": "code",
   "execution_count": 26,
   "metadata": {},
   "outputs": [
    {
     "name": "stdout",
     "output_type": "stream",
     "text": [
      "[2025/02/17 14:22:36] ppocr DEBUG: dt_boxes num : 17, elapsed : 0.04451179504394531\n",
      "[2025/02/17 14:22:36] ppocr DEBUG: cls num  : 17, elapsed : 0.025998592376708984\n",
      "[2025/02/17 14:22:36] ppocr DEBUG: rec_res num  : 17, elapsed : 0.146559476852417\n"
     ]
    },
    {
     "data": {
      "text/plain": [
       "[[[[[28.0, 22.0], [86.0, 22.0], [86.0, 45.0], [28.0, 45.0]],\n",
       "   ('About', 0.9994951486587524)],\n",
       "  [[[92.0, 24.0], [148.0, 24.0], [148.0, 47.0], [92.0, 47.0]],\n",
       "   (' Store', 0.9171366691589355)],\n",
       "  [[[1589.0, 22.0], [1713.0, 24.0], [1712.0, 47.0], [1589.0, 45.0]],\n",
       "   ('Gmail Images', 0.9283064007759094)],\n",
       "  [[[1738.0, 20.0], [1766.0, 20.0], [1766.0, 49.0], [1738.0, 49.0]],\n",
       "   ('4', 0.8419776558876038)],\n",
       "  [[[1802.0, 22.0], [1830.0, 22.0], [1830.0, 49.0], [1802.0, 49.0]],\n",
       "   ('!', 0.741083562374115)],\n",
       "  [[[785.0, 157.0], [1135.0, 170.0], [1131.0, 283.0], [781.0, 271.0]],\n",
       "   ('Google', 0.9998059272766113)],\n",
       "  [[[806.0, 424.0], [922.0, 424.0], [922.0, 444.0], [806.0, 444.0]],\n",
       "   ('Google Search', 0.9819483160972595)],\n",
       "  [[[972.0, 422.0], [1114.0, 424.0], [1113.0, 447.0], [972.0, 444.0]],\n",
       "   (\"I'm Feeling Lucky\", 0.9996370673179626)],\n",
       "  [[[39.0, 864.0], [134.0, 869.0], [133.0, 893.0], [38.0, 888.0]],\n",
       "   (' Advertising', 0.9607711434364319)],\n",
       "  [[[164.0, 866.0], [243.0, 866.0], [243.0, 889.0], [164.0, 889.0]],\n",
       "   (' Business', 0.9762619733810425)],\n",
       "  [[[273.0, 868.0], [423.0, 868.0], [423.0, 889.0], [273.0, 889.0]],\n",
       "   ('How Search works.', 0.9651380181312561)],\n",
       "  [[[786.0, 868.0], [1132.0, 868.0], [1132.0, 889.0], [786.0, 889.0]],\n",
       "   (' Our third decade of climate action: join us', 0.9823764562606812)],\n",
       "  [[[1626.0, 862.0], [1693.0, 867.0], [1691.0, 895.0], [1624.0, 890.0]],\n",
       "   (' Privacy', 0.9725819826126099)],\n",
       "  [[[1720.0, 868.0], [1778.0, 868.0], [1778.0, 891.0], [1720.0, 891.0]],\n",
       "   ('Terms', 0.9996318817138672)],\n",
       "  [[[1806.0, 862.0], [1881.0, 867.0], [1879.0, 895.0], [1804.0, 890.0]],\n",
       "   (' Settings', 0.9163072109222412)]]]"
      ]
     },
     "execution_count": 26,
     "metadata": {},
     "output_type": "execute_result"
    }
   ],
   "source": [
    "ocr.ocr('test.png', cls=True)"
   ]
  },
  {
   "cell_type": "code",
   "execution_count": 8,
   "metadata": {},
   "outputs": [
    {
     "name": "stdout",
     "output_type": "stream",
     "text": [
      "[Paddle2ONNX] Start to parse PaddlePaddle model...\n",
      "[Paddle2ONNX] Model file path: ./models/det\\inference.pdmodel\n",
      "[Paddle2ONNX] Parameters file path: ./models/det\\inference.pdiparams\n",
      "[Paddle2ONNX] Start to parsing Paddle model...\n",
      "[Paddle2ONNX] Due to the operator: hard_swish, requires opset_version >= 14.\n",
      "[Paddle2ONNX] Opset version will change to 14 from 11\n",
      "[Paddle2ONNX] Use opset_version = 14 for ONNX export.\n",
      "[Paddle2ONNX] PaddlePaddle model is exported as ONNX format now.\n"
     ]
    }
   ],
   "source": [
    "!paddle2onnx --model_dir ./models/det \\\n",
    "            --model_filename inference.pdmodel \\\n",
    "            --params_filename inference.pdiparams \\\n",
    "            --save_file paddle_ocr_det.onnx \\\n",
    "            --opset_version 11\n",
    "\n"
   ]
  },
  {
   "cell_type": "code",
   "execution_count": 9,
   "metadata": {},
   "outputs": [
    {
     "name": "stdout",
     "output_type": "stream",
     "text": [
      "[Paddle2ONNX] Start to parse PaddlePaddle model...\n",
      "[Paddle2ONNX] Model file path: ./models/rec\\inference.pdmodel\n",
      "[Paddle2ONNX] Parameters file path: ./models/rec\\inference.pdiparams\n",
      "[Paddle2ONNX] Start to parsing Paddle model...\n",
      "[Paddle2ONNX] Due to the operator: hard_swish, requires opset_version >= 14.\n",
      "[Paddle2ONNX] Opset version will change to 14 from 11\n",
      "[Paddle2ONNX] Use opset_version = 14 for ONNX export.\n",
      "[Paddle2ONNX] PaddlePaddle model is exported as ONNX format now.\n"
     ]
    }
   ],
   "source": [
    "!paddle2onnx --model_dir ./models/rec \\\n",
    "            --model_filename inference.pdmodel \\\n",
    "            --params_filename inference.pdiparams \\\n",
    "            --save_file paddle_ocr_rec.onnx \\\n",
    "            --opset_version 11\n"
   ]
  },
  {
   "cell_type": "code",
   "execution_count": 11,
   "metadata": {},
   "outputs": [
    {
     "name": "stdout",
     "output_type": "stream",
     "text": [
      "ONNX model is valid!\n"
     ]
    }
   ],
   "source": [
    "import onnx\n",
    "\n",
    "# Load and check model\n",
    "model = onnx.load(\"paddle_ocr_rec.onnx\")\n",
    "onnx.checker.check_model(model)\n",
    "print(\"ONNX model is valid!\")\n"
   ]
  },
  {
   "cell_type": "code",
   "execution_count": 12,
   "metadata": {},
   "outputs": [
    {
     "name": "stdout",
     "output_type": "stream",
     "text": [
      "Simplifying...\n",
      "Finish! Here is the difference:\n",
      "┌────────────────────┬────────────────┬──────────────────┐\n",
      "│                    │ Original Model │ Simplified Model │\n",
      "├────────────────────┼────────────────┼──────────────────┤\n",
      "│ Add                │ 79             │ 79               │\n",
      "│ AveragePool        │ 1              │ 1                │\n",
      "│ BatchNormalization │ 6              │ 0                │\n",
      "│ Cast               │ 5              │ 0                │\n",
      "│ Concat             │ 3              │ 2                │\n",
      "│ Constant           │ 299            │ 228              │\n",
      "│ Conv               │ 38             │ 38               │\n",
      "│ Div                │ 5              │ 5                │\n",
      "│ GlobalAveragePool  │ 2              │ 2                │\n",
      "│ HardSigmoid        │ 2              │ 2                │\n",
      "│ HardSwish          │ 28             │ 28               │\n",
      "│ MatMul             │ 13             │ 13               │\n",
      "│ Mul                │ 79             │ 72               │\n",
      "│ Pow                │ 5              │ 5                │\n",
      "│ ReduceMean         │ 10             │ 10               │\n",
      "│ Relu               │ 2              │ 2                │\n",
      "│ Reshape            │ 6              │ 6                │\n",
      "│ Shape              │ 2              │ 1                │\n",
      "│ Sigmoid            │ 7              │ 7                │\n",
      "│ Slice              │ 8              │ 7                │\n",
      "│ Softmax            │ 3              │ 3                │\n",
      "│ Sqrt               │ 5              │ 5                │\n",
      "│ Squeeze            │ 7              │ 7                │\n",
      "│ Sub                │ 5              │ 5                │\n",
      "│ Transpose          │ 9              │ 9                │\n",
      "│ Model Size         │ 7.3MiB         │ 7.3MiB           │\n",
      "└────────────────────┴────────────────┴──────────────────┘\n"
     ]
    }
   ],
   "source": [
    "!python -m onnxsim paddle_ocr_rec.onnx paddle_ocr_rec_opt.onnx"
   ]
  },
  {
   "cell_type": "code",
   "execution_count": 13,
   "metadata": {},
   "outputs": [
    {
     "name": "stdout",
     "output_type": "stream",
     "text": [
      "Simplifying...\n",
      "Finish! Here is the difference:\n",
      "┌────────────────────┬────────────────┬──────────────────┐\n",
      "│                    │ Original Model │ Simplified Model │\n",
      "├────────────────────┼────────────────┼──────────────────┤\n",
      "│ Add                │ 23             │ 23               │\n",
      "│ BatchNormalization │ 49             │ 1                │\n",
      "│ Concat             │ 1              │ 1                │\n",
      "│ Constant           │ 300            │ 148              │\n",
      "│ Conv               │ 72             │ 72               │\n",
      "│ ConvTranspose      │ 2              │ 2                │\n",
      "│ GlobalAveragePool  │ 8              │ 8                │\n",
      "│ HardSigmoid        │ 8              │ 8                │\n",
      "│ HardSwish          │ 20             │ 20               │\n",
      "│ Mul                │ 8              │ 8                │\n",
      "│ Relu               │ 22             │ 22               │\n",
      "│ Resize             │ 6              │ 6                │\n",
      "│ Sigmoid            │ 1              │ 1                │\n",
      "│ Model Size         │ 2.3MiB         │ 2.2MiB           │\n",
      "└────────────────────┴────────────────┴──────────────────┘\n"
     ]
    }
   ],
   "source": [
    "!python -m onnxsim paddle_ocr_det.onnx paddle_ocr_det_opt.onnx"
   ]
  },
  {
   "cell_type": "code",
   "execution_count": 15,
   "metadata": {},
   "outputs": [
    {
     "name": "stderr",
     "output_type": "stream",
     "text": [
      "[2025-02-17 13:27:15,492] [ WARNING] quantize.py:837 - Please consider to run pre-processing before quantization. Refer to example: https://github.com/microsoft/onnxruntime-inference-examples/blob/main/quantization/image_classification/cpu/ReadMe.md \n",
      "[2025-02-17 13:27:16,066] [ WARNING] quantize.py:837 - Please consider to run pre-processing before quantization. Refer to example: https://github.com/microsoft/onnxruntime-inference-examples/blob/main/quantization/image_classification/cpu/ReadMe.md \n"
     ]
    }
   ],
   "source": [
    "from onnxruntime.quantization import quantize_dynamic, QuantType\n",
    "\n",
    "quantize_dynamic(\"paddle_ocr_rec_opt.onnx\", \"paddle_ocr_rec_quant.onnx\", weight_type=QuantType.QInt8)\n",
    "quantize_dynamic(\"paddle_ocr_det_opt.onnx\", \"paddle_ocr_det_quant.onnx\", weight_type=QuantType.QInt8)\n"
   ]
  },
  {
   "cell_type": "code",
   "execution_count": 17,
   "metadata": {},
   "outputs": [
    {
     "name": "stdout",
     "output_type": "stream",
     "text": [
      "ONNX model is valid!\n"
     ]
    }
   ],
   "source": [
    "import onnx\n",
    "\n",
    "# Load and check model\n",
    "model = onnx.load(\"paddle_ocr_det_quant.onnx\")\n",
    "onnx.checker.check_model(model)\n",
    "print(\"ONNX model is valid!\")\n"
   ]
  }
 ],
 "metadata": {
  "kernelspec": {
   "display_name": "ocr_venv",
   "language": "python",
   "name": "python3"
  },
  "language_info": {
   "codemirror_mode": {
    "name": "ipython",
    "version": 3
   },
   "file_extension": ".py",
   "mimetype": "text/x-python",
   "name": "python",
   "nbconvert_exporter": "python",
   "pygments_lexer": "ipython3",
   "version": "3.11.11"
  }
 },
 "nbformat": 4,
 "nbformat_minor": 2
}
